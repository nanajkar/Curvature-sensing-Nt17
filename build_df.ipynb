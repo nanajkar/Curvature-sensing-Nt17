{
 "cells": [
  {
   "cell_type": "code",
   "execution_count": 3,
   "id": "474a46bd",
   "metadata": {},
   "outputs": [],
   "source": [
    "import pandas as pd\n",
    "import numpy as np\n",
    "from MDAnalysis import Universe\n",
    "from MDAnalysis.analysis.distances import distance_array\n",
    "from calc_df import *\n",
    "from utils import *\n"
   ]
  },
  {
   "cell_type": "code",
   "execution_count": 6,
   "id": "1d611b4b",
   "metadata": {},
   "outputs": [],
   "source": [
    "file_pairs = [\n",
    "    ('../../resub_traj/n17_k10_II.red.tpr', '../../resub_traj/n17_k10_II.red.xtc'),\n",
    "    ('../../resub_traj/n17_k10_III.red.tpr', '../../resub_traj/n17_k10_III.red.xtc'),\n",
    "    ('../../resub_traj/n17_k10_IV.red.tpr', '../../resub_traj/n17_k10_IV.red.xtc')\n",
    "]"
   ]
  },
  {
   "cell_type": "markdown",
   "id": "ee311547",
   "metadata": {},
   "source": [
    "# Create Skeleton DataFrame\n",
    "\n",
    "Each row of the DataFrame contains the following columns:\n",
    "\n",
    "- **`global_pep_ID`**  \n",
    "  Peptide count across replicas (ranging grom 0 to 35*3)\n",
    "\n",
    "- **`local_pep_ID`**  \n",
    "  Peptide index within a single replica (ranges from 0 to 35).\n",
    "\n",
    "- **`frame`**  \n",
    "  Frame number (ranges from 0 to 5000).\n",
    "\n",
    "- **`trajectory`**  \n",
    "  Identifier for the trajectory the peptide-frame pair comes from.\n",
    "\n",
    "- **`target_status`**  \n",
    "  Categorical label (0–3) indicating peptide binding type:\n",
    "\n",
    "  | Value | Description                    |\n",
    "  |-------|--------------------------------|\n",
    "  | 0     | Directly bound to **Mc**       |\n",
    "  | 1     | Directly bound to **Mp**       |\n",
    "  | 2     | Indirectly bound to **Mc**     |\n",
    "  | 3     | Indirectly bound to **Mp**     |\n"
   ]
  },
  {
   "cell_type": "code",
   "execution_count": 7,
   "id": "3444b80d",
   "metadata": {},
   "outputs": [],
   "source": [
    "# Function calls to generate the initial template df\n",
    "dfs = []\n",
    "\n",
    "for i, (tpr, xtc) in enumerate(file_pairs):\n",
    "    df_traj = build_init_df(tpr, xtc, traj_index=i, start=0, stop=5000)\n",
    "    dfs.append(df_traj)\n",
    "\n",
    "final_df = pd.concat(dfs, ignore_index=True)\n",
    "final_df.to_csv(\"skeleton_df.csv\", index=False)"
   ]
  },
  {
   "cell_type": "code",
   "execution_count": 8,
   "id": "46280998",
   "metadata": {},
   "outputs": [
    {
     "name": "stdout",
     "output_type": "stream",
     "text": [
      "Current version of the df has the following columns\n",
      "Index(['global_pep_ID', 'local_pep_ID', 'frame', 'trajectory',\n",
      "       'target_status'],\n",
      "      dtype='object')\n"
     ]
    }
   ],
   "source": [
    "df_template = pd.read_csv('skeleton_df.csv')\n",
    "print_df_status(df_template)"
   ]
  },
  {
   "cell_type": "markdown",
   "id": "506eae6b",
   "metadata": {},
   "source": [
    "## Peptide-peptide heavy atom contacts\n",
    "\n",
    "Calculates # of contacts (within 7 Å)  between a selected peptide and all others across specified frames and trajectories, returning a DataFrame of contact counts.\n",
    "\n"
   ]
  },
  {
   "cell_type": "code",
   "execution_count": 12,
   "id": "8658c2b8",
   "metadata": {},
   "outputs": [
    {
     "name": "stdout",
     "output_type": "stream",
     "text": [
      "Saving current version of the df. \n",
      " The following columns are present: \n",
      "Index(['global_pep_ID', 'local_pep_ID', 'frame', 'trajectory', 'target_status',\n",
      "       'pp_contacts'],\n",
      "      dtype='object')\n",
      "Saving to current_features.csv\n",
      "Current version of the df has the following columns\n",
      "Index(['global_pep_ID', 'local_pep_ID', 'frame', 'trajectory', 'target_status',\n",
      "       'pp_contacts'],\n",
      "      dtype='object')\n"
     ]
    }
   ],
   "source": [
    "# Run the peptide-peptide contact analysis\n",
    "contact_df = pep_pep_contacts(df_template, file_pairs)\n",
    "\n",
    "# Merge the new contact data back into the base DataFrame\n",
    "df_template = pd.merge(\n",
    "    df_template,\n",
    "    contact_df[[\"trajectory\", \"frame\", \"local_pep_ID\", \"pp_contacts\"]],\n",
    "    on=[\"trajectory\", \"frame\", \"local_pep_ID\"],\n",
    "    how=\"left\"\n",
    ")\n",
    "\n",
    "save_new_df(df_template)\n",
    "print_df_status(df_template)"
   ]
  },
  {
   "cell_type": "markdown",
   "id": "ac32e21d",
   "metadata": {},
   "source": [
    "## Peptide-lipid interactions\n",
    "\n",
    "\n",
    "Calculates hydrogen-like contacts (within 7 Å) between a selected peptide and all lipids (PO4)  across specified frames and trajectories, returning a DataFrame of contact counts.\n"
   ]
  },
  {
   "cell_type": "code",
   "execution_count": 16,
   "id": "13802a76",
   "metadata": {},
   "outputs": [
    {
     "name": "stdout",
     "output_type": "stream",
     "text": [
      "Saving current version of the df. \n",
      " The following columns are present: \n",
      "Index(['global_pep_ID', 'local_pep_ID', 'frame', 'trajectory', 'target_status',\n",
      "       'pp_contacts', 'pl_contacts'],\n",
      "      dtype='object')\n",
      "Saving to current_features.csv\n",
      "Current version of the df has the following columns\n",
      "Index(['global_pep_ID', 'local_pep_ID', 'frame', 'trajectory', 'target_status',\n",
      "       'pp_contacts', 'pl_contacts'],\n",
      "      dtype='object')\n"
     ]
    }
   ],
   "source": [
    "# Run the peptide-peptide contact analysis\n",
    "contact_df = pep_lip_contacts(df_template, file_pairs)\n",
    "\n",
    "# Merge the new contact data back into the base DataFrame\n",
    "df_template = pd.merge(\n",
    "    df_template,\n",
    "    contact_df[[\"trajectory\", \"frame\", \"local_pep_ID\", \"pl_contacts\"]],\n",
    "    on=[\"trajectory\", \"frame\", \"local_pep_ID\"],\n",
    "    how=\"left\"\n",
    ")\n",
    "\n",
    "save_new_df(df_template)\n",
    "print_df_status(df_template)"
   ]
  },
  {
   "cell_type": "markdown",
   "id": "6e0a5504",
   "metadata": {},
   "source": [
    "## Dipole peptide-peptide interactions"
   ]
  },
  {
   "cell_type": "code",
   "execution_count": null,
   "id": "d34c6624",
   "metadata": {},
   "outputs": [],
   "source": [
    "# Load latest version of df and run the peptide-peptide contact analysis\n",
    "df_template = pd.read_csv('current_features.csv')\n",
    "contact_df = pep_dip_dip_contacts(df_template, file_pairs)\n",
    "\n",
    "# Merge the new contact data back into the base DataFrame\n",
    "df_template = pd.merge(\n",
    "    df_template,\n",
    "    contact_df[[\"trajectory\", \"frame\", \"local_pep_ID\", \"dip_pp_contacts\"]],\n",
    "    on=[\"trajectory\", \"frame\", \"local_pep_ID\"],\n",
    "    how=\"left\"\n",
    ")\n",
    "save_new_df(df_template)\n",
    "df_template = pd.read_csv('current_features.csv')"
   ]
  },
  {
   "cell_type": "code",
   "execution_count": null,
   "id": "16389cde",
   "metadata": {},
   "outputs": [],
   "source": []
  }
 ],
 "metadata": {
  "kernelspec": {
   "display_name": "ML_learn",
   "language": "python",
   "name": "python3"
  },
  "language_info": {
   "codemirror_mode": {
    "name": "ipython",
    "version": 3
   },
   "file_extension": ".py",
   "mimetype": "text/x-python",
   "name": "python",
   "nbconvert_exporter": "python",
   "pygments_lexer": "ipython3",
   "version": "3.13.2"
  }
 },
 "nbformat": 4,
 "nbformat_minor": 5
}
