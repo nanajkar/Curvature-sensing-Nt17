{
 "cells": [
  {
   "cell_type": "code",
   "execution_count": 1,
   "id": "474a46bd",
   "metadata": {},
   "outputs": [
    {
     "name": "stderr",
     "output_type": "stream",
     "text": [
      "/opt/anaconda3/envs/ML_learn/lib/python3.13/site-packages/tqdm/auto.py:21: TqdmWarning: IProgress not found. Please update jupyter and ipywidgets. See https://ipywidgets.readthedocs.io/en/stable/user_install.html\n",
      "  from .autonotebook import tqdm as notebook_tqdm\n"
     ]
    }
   ],
   "source": [
    "import pandas as pd\n",
    "import numpy as np\n",
    "from MDAnalysis import Universe\n",
    "from MDAnalysis.analysis.distances import distance_array\n",
    "from calc_df import *\n",
    "from utils import *"
   ]
  },
  {
   "cell_type": "code",
   "execution_count": 2,
   "id": "1d611b4b",
   "metadata": {},
   "outputs": [],
   "source": [
    "file_pairs = [\n",
    "    ('../../resub_traj/n17_k10_II.red.tpr', '../../resub_traj/n17_k10_II.red.xtc'),\n",
    "    ('../../resub_traj/n17_k10_III.red.tpr', '../../resub_traj/n17_k10_III.red.xtc'),\n",
    "    ('../../resub_traj/n17_k10_IV.red.tpr', '../../resub_traj/n17_k10_IV.red.xtc')\n",
    "]"
   ]
  },
  {
   "cell_type": "markdown",
   "id": "ee311547",
   "metadata": {},
   "source": [
    "# Create Skeleton DataFrame\n",
    "\n",
    "Each row of the DataFrame contains the following columns:\n",
    "\n",
    "- **`global_pep_ID`**  \n",
    "  Peptide count across replicas (ranging grom 0 to 35*3)\n",
    "\n",
    "- **`local_pep_ID`**  \n",
    "  Peptide index within a single replica (ranges from 0 to 35).\n",
    "\n",
    "- **`frame`**  \n",
    "  Frame number (ranges from 0 to 5000).\n",
    "\n",
    "- **`trajectory`**  \n",
    "  Identifier for the trajectory the peptide-frame pair comes from.\n",
    "\n",
    "- **`target_status`**  \n",
    "  Categorical label (0–3) indicating peptide binding type:\n",
    "\n",
    "  | Value | Description                    |\n",
    "  |-------|--------------------------------|\n",
    "  | 0     | Directly bound to **Mc**       |\n",
    "  | 1     | Directly bound to **Mp**       |\n",
    "  | 2     | Indirectly bound to **Mc**     |\n",
    "  | 3     | Indirectly bound to **Mp**     |\n"
   ]
  },
  {
   "cell_type": "code",
   "execution_count": 7,
   "id": "3444b80d",
   "metadata": {},
   "outputs": [],
   "source": [
    "# Function calls to generate the initial template df\n",
    "dfs = []\n",
    "\n",
    "for i, (tpr, xtc) in enumerate(file_pairs):\n",
    "    df_traj = build_init_df(tpr, xtc, traj_index=i, start=0, stop=5000)\n",
    "    dfs.append(df_traj)\n",
    "\n",
    "final_df = pd.concat(dfs, ignore_index=True)\n",
    "final_df.to_csv(\"skeleton_df.csv\", index=False)"
   ]
  },
  {
   "cell_type": "code",
   "execution_count": 8,
   "id": "46280998",
   "metadata": {},
   "outputs": [
    {
     "name": "stdout",
     "output_type": "stream",
     "text": [
      "Current version of the df has the following columns\n",
      "Index(['global_pep_ID', 'local_pep_ID', 'frame', 'trajectory',\n",
      "       'target_status'],\n",
      "      dtype='object')\n"
     ]
    }
   ],
   "source": [
    "df_template = pd.read_csv('skeleton_df.csv')\n",
    "print_df_status(df_template)"
   ]
  },
  {
   "cell_type": "markdown",
   "id": "506eae6b",
   "metadata": {},
   "source": [
    "## Peptide-peptide heavy atom contacts\n",
    "\n",
    "Calculates # of contacts (within 7 Å)  between a selected peptide and all others across specified frames and trajectories, returning a DataFrame of contact counts.\n",
    "\n"
   ]
  },
  {
   "cell_type": "code",
   "execution_count": 12,
   "id": "8658c2b8",
   "metadata": {},
   "outputs": [
    {
     "name": "stdout",
     "output_type": "stream",
     "text": [
      "Saving current version of the df. \n",
      " The following columns are present: \n",
      "Index(['global_pep_ID', 'local_pep_ID', 'frame', 'trajectory', 'target_status',\n",
      "       'pp_contacts'],\n",
      "      dtype='object')\n",
      "Saving to current_features.csv\n",
      "Current version of the df has the following columns\n",
      "Index(['global_pep_ID', 'local_pep_ID', 'frame', 'trajectory', 'target_status',\n",
      "       'pp_contacts'],\n",
      "      dtype='object')\n"
     ]
    }
   ],
   "source": [
    "# Run the peptide-peptide contact analysis\n",
    "contact_df = pep_pep_contacts(df_template, file_pairs)\n",
    "\n",
    "# Merge the new contact data back into the base DataFrame\n",
    "df_template = pd.merge(\n",
    "    df_template,\n",
    "    contact_df[[\"trajectory\", \"frame\", \"local_pep_ID\", \"pp_contacts\"]],\n",
    "    on=[\"trajectory\", \"frame\", \"local_pep_ID\"],\n",
    "    how=\"left\"\n",
    ")\n",
    "\n",
    "save_new_df(df_template)\n",
    "print_df_status(df_template)"
   ]
  },
  {
   "cell_type": "markdown",
   "id": "ac32e21d",
   "metadata": {},
   "source": [
    "## Peptide-lipid interactions\n",
    "\n",
    "\n",
    "Calculates hydrogen-like contacts (within 7 Å) between a selected peptide and all lipids (PO4)  across specified frames and trajectories, returning a DataFrame of contact counts.\n"
   ]
  },
  {
   "cell_type": "code",
   "execution_count": 16,
   "id": "13802a76",
   "metadata": {},
   "outputs": [
    {
     "name": "stdout",
     "output_type": "stream",
     "text": [
      "Saving current version of the df. \n",
      " The following columns are present: \n",
      "Index(['global_pep_ID', 'local_pep_ID', 'frame', 'trajectory', 'target_status',\n",
      "       'pp_contacts', 'pl_contacts'],\n",
      "      dtype='object')\n",
      "Saving to current_features.csv\n",
      "Current version of the df has the following columns\n",
      "Index(['global_pep_ID', 'local_pep_ID', 'frame', 'trajectory', 'target_status',\n",
      "       'pp_contacts', 'pl_contacts'],\n",
      "      dtype='object')\n"
     ]
    }
   ],
   "source": [
    "# Run the peptide-peptide contact analysis\n",
    "contact_df = pep_lip_contacts(df_template, file_pairs)\n",
    "\n",
    "# Merge the new contact data back into the base DataFrame\n",
    "df_template = pd.merge(\n",
    "    df_template,\n",
    "    contact_df[[\"trajectory\", \"frame\", \"local_pep_ID\", \"pl_contacts\"]],\n",
    "    on=[\"trajectory\", \"frame\", \"local_pep_ID\"],\n",
    "    how=\"left\"\n",
    ")\n",
    "\n",
    "save_new_df(df_template)\n",
    "print_df_status(df_template)"
   ]
  },
  {
   "cell_type": "markdown",
   "id": "6e0a5504",
   "metadata": {},
   "source": [
    "## Dipole peptide-peptide interactions"
   ]
  },
  {
   "cell_type": "code",
   "execution_count": 19,
   "id": "d34c6624",
   "metadata": {},
   "outputs": [
    {
     "name": "stdout",
     "output_type": "stream",
     "text": [
      "Saving current version of the df. \n",
      " The following columns are present: \n",
      "Index(['global_pep_ID', 'local_pep_ID', 'frame', 'trajectory', 'target_status',\n",
      "       'pp_contacts', 'pl_contacts', 'dip_pp_contacts'],\n",
      "      dtype='object')\n",
      "Saving to current_features.csv\n"
     ]
    }
   ],
   "source": [
    "# Load latest version of df and run the peptide-peptide contact analysis\n",
    "df_template = pd.read_csv('current_features.csv')\n",
    "contact_df = pep_dip_dip_contacts(df_template, file_pairs)\n",
    "\n",
    "# Merge the new contact data back into the base DataFrame\n",
    "df_template = pd.merge(\n",
    "    df_template,\n",
    "    contact_df[[\"trajectory\", \"frame\", \"local_pep_ID\", \"dip_pp_contacts\"]],\n",
    "    on=[\"trajectory\", \"frame\", \"local_pep_ID\"],\n",
    "    how=\"left\"\n",
    ")\n",
    "save_new_df(df_template)\n",
    "df_template = pd.read_csv('current_features.csv')"
   ]
  },
  {
   "cell_type": "markdown",
   "id": "17bb3746",
   "metadata": {},
   "source": [
    "## Dipole peptide-lipid interactions\n",
    "\n",
    "\n",
    "Counts close contacts (<3.5 Å) between dipole-heavy atoms of selected peptides and lipid atoms (POPC whole) across specified frames and trajectories."
   ]
  },
  {
   "cell_type": "code",
   "execution_count": 27,
   "id": "16389cde",
   "metadata": {},
   "outputs": [
    {
     "name": "stdout",
     "output_type": "stream",
     "text": [
      "Saving current version of the df. \n",
      " The following columns are present: \n",
      "Index(['global_pep_ID', 'local_pep_ID', 'frame', 'trajectory', 'target_status',\n",
      "       'pp_contacts', 'pl_contacts', 'dip_pp_contacts', 'dip_lp_contacts_x',\n",
      "       'dip_lp_contacts_y'],\n",
      "      dtype='object')\n",
      "Saving to current_features.csv\n"
     ]
    }
   ],
   "source": [
    "# Load latest version of df and run the peptide-peptide contact analysis\n",
    "df_template = pd.read_csv('current_features.csv')\n",
    "contact_df = dip_pep_lip_contacts(df_template, file_pairs)\n",
    "\n",
    "# Merge the new contact data back into the base DataFrame\n",
    "df_template = pd.merge(\n",
    "    df_template,\n",
    "    contact_df[[\"trajectory\", \"frame\", \"local_pep_ID\", \"dip_lp_contacts\"]],\n",
    "    on=[\"trajectory\", \"frame\", \"local_pep_ID\"],\n",
    "    how=\"left\"\n",
    ")\n",
    "save_new_df(df_template)\n",
    "df_template = pd.read_csv('current_features.csv')"
   ]
  },
  {
   "cell_type": "markdown",
   "id": "0165001c",
   "metadata": {},
   "source": []
  },
  {
   "cell_type": "code",
   "execution_count": 32,
   "id": "6eb1672c",
   "metadata": {},
   "outputs": [],
   "source": [
    "df_template.drop(columns='dip_lp_contacts_x',inplace=True)\n",
    "df_template.rename(columns={'dip_lp_contacts_y': 'dip_lp_contacts'}, inplace=True)"
   ]
  },
  {
   "cell_type": "code",
   "execution_count": 33,
   "id": "3708adbd",
   "metadata": {},
   "outputs": [
    {
     "data": {
      "text/html": [
       "<div>\n",
       "<style scoped>\n",
       "    .dataframe tbody tr th:only-of-type {\n",
       "        vertical-align: middle;\n",
       "    }\n",
       "\n",
       "    .dataframe tbody tr th {\n",
       "        vertical-align: top;\n",
       "    }\n",
       "\n",
       "    .dataframe thead th {\n",
       "        text-align: right;\n",
       "    }\n",
       "</style>\n",
       "<table border=\"1\" class=\"dataframe\">\n",
       "  <thead>\n",
       "    <tr style=\"text-align: right;\">\n",
       "      <th></th>\n",
       "      <th>global_pep_ID</th>\n",
       "      <th>local_pep_ID</th>\n",
       "      <th>frame</th>\n",
       "      <th>trajectory</th>\n",
       "      <th>target_status</th>\n",
       "      <th>pp_contacts</th>\n",
       "      <th>pl_contacts</th>\n",
       "      <th>dip_pp_contacts</th>\n",
       "      <th>dip_lp_contacts</th>\n",
       "    </tr>\n",
       "  </thead>\n",
       "  <tbody>\n",
       "    <tr>\n",
       "      <th>0</th>\n",
       "      <td>10</td>\n",
       "      <td>10</td>\n",
       "      <td>83</td>\n",
       "      <td>0</td>\n",
       "      <td>3</td>\n",
       "      <td>0</td>\n",
       "      <td>0</td>\n",
       "      <td>0</td>\n",
       "      <td>0</td>\n",
       "    </tr>\n",
       "    <tr>\n",
       "      <th>1</th>\n",
       "      <td>22</td>\n",
       "      <td>22</td>\n",
       "      <td>83</td>\n",
       "      <td>0</td>\n",
       "      <td>1</td>\n",
       "      <td>0</td>\n",
       "      <td>10</td>\n",
       "      <td>0</td>\n",
       "      <td>0</td>\n",
       "    </tr>\n",
       "    <tr>\n",
       "      <th>2</th>\n",
       "      <td>34</td>\n",
       "      <td>34</td>\n",
       "      <td>83</td>\n",
       "      <td>0</td>\n",
       "      <td>3</td>\n",
       "      <td>0</td>\n",
       "      <td>0</td>\n",
       "      <td>0</td>\n",
       "      <td>0</td>\n",
       "    </tr>\n",
       "    <tr>\n",
       "      <th>3</th>\n",
       "      <td>10</td>\n",
       "      <td>10</td>\n",
       "      <td>85</td>\n",
       "      <td>0</td>\n",
       "      <td>3</td>\n",
       "      <td>0</td>\n",
       "      <td>0</td>\n",
       "      <td>0</td>\n",
       "      <td>0</td>\n",
       "    </tr>\n",
       "    <tr>\n",
       "      <th>4</th>\n",
       "      <td>22</td>\n",
       "      <td>22</td>\n",
       "      <td>85</td>\n",
       "      <td>0</td>\n",
       "      <td>1</td>\n",
       "      <td>0</td>\n",
       "      <td>8</td>\n",
       "      <td>0</td>\n",
       "      <td>1</td>\n",
       "    </tr>\n",
       "    <tr>\n",
       "      <th>5</th>\n",
       "      <td>34</td>\n",
       "      <td>34</td>\n",
       "      <td>85</td>\n",
       "      <td>0</td>\n",
       "      <td>3</td>\n",
       "      <td>0</td>\n",
       "      <td>0</td>\n",
       "      <td>0</td>\n",
       "      <td>0</td>\n",
       "    </tr>\n",
       "    <tr>\n",
       "      <th>6</th>\n",
       "      <td>10</td>\n",
       "      <td>10</td>\n",
       "      <td>86</td>\n",
       "      <td>0</td>\n",
       "      <td>3</td>\n",
       "      <td>0</td>\n",
       "      <td>0</td>\n",
       "      <td>0</td>\n",
       "      <td>0</td>\n",
       "    </tr>\n",
       "    <tr>\n",
       "      <th>7</th>\n",
       "      <td>22</td>\n",
       "      <td>22</td>\n",
       "      <td>86</td>\n",
       "      <td>0</td>\n",
       "      <td>1</td>\n",
       "      <td>0</td>\n",
       "      <td>7</td>\n",
       "      <td>0</td>\n",
       "      <td>3</td>\n",
       "    </tr>\n",
       "    <tr>\n",
       "      <th>8</th>\n",
       "      <td>34</td>\n",
       "      <td>34</td>\n",
       "      <td>86</td>\n",
       "      <td>0</td>\n",
       "      <td>3</td>\n",
       "      <td>0</td>\n",
       "      <td>0</td>\n",
       "      <td>0</td>\n",
       "      <td>0</td>\n",
       "    </tr>\n",
       "    <tr>\n",
       "      <th>9</th>\n",
       "      <td>10</td>\n",
       "      <td>10</td>\n",
       "      <td>87</td>\n",
       "      <td>0</td>\n",
       "      <td>3</td>\n",
       "      <td>0</td>\n",
       "      <td>0</td>\n",
       "      <td>0</td>\n",
       "      <td>0</td>\n",
       "    </tr>\n",
       "  </tbody>\n",
       "</table>\n",
       "</div>"
      ],
      "text/plain": [
       "   global_pep_ID  local_pep_ID  frame  trajectory  target_status  pp_contacts  \\\n",
       "0             10            10     83           0              3            0   \n",
       "1             22            22     83           0              1            0   \n",
       "2             34            34     83           0              3            0   \n",
       "3             10            10     85           0              3            0   \n",
       "4             22            22     85           0              1            0   \n",
       "5             34            34     85           0              3            0   \n",
       "6             10            10     86           0              3            0   \n",
       "7             22            22     86           0              1            0   \n",
       "8             34            34     86           0              3            0   \n",
       "9             10            10     87           0              3            0   \n",
       "\n",
       "   pl_contacts  dip_pp_contacts  dip_lp_contacts  \n",
       "0            0                0                0  \n",
       "1           10                0                0  \n",
       "2            0                0                0  \n",
       "3            0                0                0  \n",
       "4            8                0                1  \n",
       "5            0                0                0  \n",
       "6            0                0                0  \n",
       "7            7                0                3  \n",
       "8            0                0                0  \n",
       "9            0                0                0  "
      ]
     },
     "execution_count": 33,
     "metadata": {},
     "output_type": "execute_result"
    }
   ],
   "source": [
    "df_template.head(10)"
   ]
  },
  {
   "cell_type": "code",
   "execution_count": 34,
   "id": "2b44c192",
   "metadata": {},
   "outputs": [
    {
     "name": "stdout",
     "output_type": "stream",
     "text": [
      "Saving current version of the df. \n",
      " The following columns are present: \n",
      "Index(['global_pep_ID', 'local_pep_ID', 'frame', 'trajectory', 'target_status',\n",
      "       'pp_contacts', 'pl_contacts', 'dip_pp_contacts', 'dip_lp_contacts'],\n",
      "      dtype='object')\n",
      "Saving to current_features.csv\n"
     ]
    }
   ],
   "source": [
    "save_new_df(df_template)\n",
    "df_template = pd.read_csv('current_features.csv')"
   ]
  },
  {
   "cell_type": "code",
   "execution_count": 3,
   "id": "d5d37c58",
   "metadata": {},
   "outputs": [
    {
     "name": "stdout",
     "output_type": "stream",
     "text": [
      "Saving current version of the df. \n",
      " The following columns are present: \n",
      "Index(['global_pep_ID', 'local_pep_ID', 'frame', 'trajectory', 'target_status',\n",
      "       'pp_contacts', 'pl_contacts', 'dip_pp_contacts', 'dip_lp_contacts',\n",
      "       'hyd_lp_contacts'],\n",
      "      dtype='object')\n",
      "Saving to current_features.csv\n"
     ]
    }
   ],
   "source": [
    "# Load latest version of df and run the peptide-peptide contact analysis\n",
    "df_template = pd.read_csv('current_features.csv')\n",
    "contact_df = hyd_pep_lip_contacts(df_template, file_pairs)\n",
    "\n",
    "# Merge the new contact data back into the base DataFrame\n",
    "df_template = pd.merge(\n",
    "    df_template,\n",
    "    contact_df[[\"trajectory\", \"frame\", \"local_pep_ID\", \"hyd_lp_contacts\"]],\n",
    "    on=[\"trajectory\", \"frame\", \"local_pep_ID\"],\n",
    "    how=\"left\"\n",
    ")\n",
    "save_new_df(df_template)\n",
    "df_template = pd.read_csv('current_features.csv')"
   ]
  },
  {
   "cell_type": "code",
   "execution_count": 3,
   "id": "09ff6e77",
   "metadata": {},
   "outputs": [
    {
     "ename": "NameError",
     "evalue": "name 'df_template' is not defined",
     "output_type": "error",
     "traceback": [
      "\u001b[0;31m---------------------------------------------------------------------------\u001b[0m",
      "\u001b[0;31mNameError\u001b[0m                                 Traceback (most recent call last)",
      "Cell \u001b[0;32mIn[3], line 1\u001b[0m\n\u001b[0;32m----> 1\u001b[0m print_df_status(\u001b[43mdf_template\u001b[49m)\n",
      "\u001b[0;31mNameError\u001b[0m: name 'df_template' is not defined"
     ]
    }
   ],
   "source": [
    "print_df_status(df_template)"
   ]
  },
  {
   "cell_type": "markdown",
   "id": "bd8568a1",
   "metadata": {},
   "source": [
    "## Positive peptide SC with negative PO4\n"
   ]
  },
  {
   "cell_type": "code",
   "execution_count": 5,
   "id": "00c723e7",
   "metadata": {},
   "outputs": [
    {
     "name": "stdout",
     "output_type": "stream",
     "text": [
      "Saving current version of the df. \n",
      " The following columns are present: \n",
      "Index(['global_pep_ID', 'local_pep_ID', 'frame', 'trajectory', 'target_status',\n",
      "       'pp_contacts', 'pl_contacts', 'dip_pp_contacts', 'dip_lp_contacts',\n",
      "       'hyd_lp_contacts', 'Ppep_Nlip_contacts'],\n",
      "      dtype='object')\n",
      "Saving to current_features.csv\n"
     ]
    }
   ],
   "source": [
    "df_template = pd.read_csv('current_features.csv')\n",
    "contact_df = Ppep_Nlip_contacts(df_template, file_pairs)\n",
    "\n",
    "# Merge the new contact data back into the base DataFrame\n",
    "df_template = pd.merge(\n",
    "    df_template,\n",
    "    contact_df[[\"trajectory\", \"frame\", \"local_pep_ID\", \"Ppep_Nlip_contacts\"]],\n",
    "    on=[\"trajectory\", \"frame\", \"local_pep_ID\"],\n",
    "    how=\"left\"\n",
    ")\n",
    "save_new_df(df_template)\n",
    "df_template = pd.read_csv('current_features.csv')"
   ]
  },
  {
   "cell_type": "markdown",
   "id": "b4739f4d",
   "metadata": {},
   "source": [
    "## Negative peptide SC with positive NC3\n"
   ]
  },
  {
   "cell_type": "code",
   "execution_count": 6,
   "id": "bde7d351",
   "metadata": {},
   "outputs": [
    {
     "name": "stdout",
     "output_type": "stream",
     "text": [
      "Saving current version of the df. \n",
      " The following columns are present: \n",
      "Index(['global_pep_ID', 'local_pep_ID', 'frame', 'trajectory', 'target_status',\n",
      "       'pp_contacts', 'pl_contacts', 'dip_pp_contacts', 'dip_lp_contacts',\n",
      "       'hyd_lp_contacts', 'Ppep_Nlip_contacts', 'Npep_Plip_contacts'],\n",
      "      dtype='object')\n",
      "Saving to current_features.csv\n"
     ]
    }
   ],
   "source": [
    "contact_df = Npep_Plip_contacts(df_template, file_pairs)\n",
    "\n",
    "# Merge the new contact data back into the base DataFrame\n",
    "df_template = pd.merge(\n",
    "    df_template,\n",
    "    contact_df[[\"trajectory\", \"frame\", \"local_pep_ID\", \"Npep_Plip_contacts\"]],\n",
    "    on=[\"trajectory\", \"frame\", \"local_pep_ID\"],\n",
    "    how=\"left\"\n",
    ")\n",
    "save_new_df(df_template)\n",
    "df_template = pd.read_csv('current_features.csv')"
   ]
  },
  {
   "cell_type": "code",
   "execution_count": null,
   "id": "599f2ce3",
   "metadata": {},
   "outputs": [],
   "source": []
  }
 ],
 "metadata": {
  "kernelspec": {
   "display_name": "ML_learn",
   "language": "python",
   "name": "python3"
  },
  "language_info": {
   "codemirror_mode": {
    "name": "ipython",
    "version": 3
   },
   "file_extension": ".py",
   "mimetype": "text/x-python",
   "name": "python",
   "nbconvert_exporter": "python",
   "pygments_lexer": "ipython3",
   "version": "3.13.2"
  }
 },
 "nbformat": 4,
 "nbformat_minor": 5
}
