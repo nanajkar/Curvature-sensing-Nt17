{
 "cells": [
  {
   "cell_type": "code",
   "execution_count": 2,
   "id": "9d60409b",
   "metadata": {},
   "outputs": [],
   "source": [
    "import numpy as np\n",
    "import pandas as pd\n",
    "import seaborn as sns\n",
    "import matplotlib.pyplot as plt\n",
    "from sklearn.neural_network import MLPClassifier\n",
    "from sklearn.model_selection import train_test_split\n",
    "from sklearn.preprocessing import StandardScaler\n",
    "from imblearn.over_sampling import SMOTE\n",
    "from sklearn.metrics import classification_report"
   ]
  },
  {
   "cell_type": "code",
   "execution_count": 3,
   "id": "df3a3fe9",
   "metadata": {},
   "outputs": [],
   "source": [
    "# Read in current version of the df. \n",
    "current_df = pd.read_csv('current_features.csv')\n",
    "\n",
    "y = current_df['target_status']\n",
    "\n",
    "feature_cols = ['pp_contacts', 'pl_contacts', 'dip_pp_contacts', 'dip_lp_contacts',\n",
    "       'hyd_lp_contacts', 'Ppep_Nlip_contacts', 'Npep_Plip_contacts']\n",
    "X = current_df[feature_cols]"
   ]
  },
  {
   "cell_type": "markdown",
   "id": "e04408fb",
   "metadata": {},
   "source": [
    "# April 21, 2025: playing around"
   ]
  },
  {
   "cell_type": "code",
   "execution_count": 17,
   "id": "6924fc45",
   "metadata": {},
   "outputs": [],
   "source": [
    "# Split into training and test\n",
    "X_train, X_test, y_train, y_test = train_test_split(X,y,random_state=0)"
   ]
  },
  {
   "cell_type": "markdown",
   "id": "b60fdffb",
   "metadata": {},
   "source": [
    "## Training"
   ]
  },
  {
   "cell_type": "code",
   "execution_count": null,
   "id": "a2572989",
   "metadata": {},
   "outputs": [
    {
     "name": "stdout",
     "output_type": "stream",
     "text": [
      "49\n"
     ]
    }
   ],
   "source": [
    "\n",
    "clf.fit(X_train, y_train)\n",
    "print(clf.n_iter_)"
   ]
  },
  {
   "cell_type": "code",
   "execution_count": 35,
   "id": "c4faca23",
   "metadata": {},
   "outputs": [
    {
     "name": "stdout",
     "output_type": "stream",
     "text": [
      "Training Accuracy: 0.80\n"
     ]
    }
   ],
   "source": [
    "# Print # accuracy and save loss array\n",
    "accuracy_training = clf.score(X_train, y_train)\n",
    "print(f\"Training Accuracy: {accuracy_training:.2f}\")\n",
    "\n",
    "# Save training loss curve\n",
    "training_loss_curved = clf.loss_curve_"
   ]
  },
  {
   "cell_type": "markdown",
   "id": "cdc55c94",
   "metadata": {},
   "source": [
    "## Test set"
   ]
  },
  {
   "cell_type": "code",
   "execution_count": 36,
   "id": "35f00313",
   "metadata": {},
   "outputs": [
    {
     "name": "stdout",
     "output_type": "stream",
     "text": [
      "31\n",
      "Testing Accuracy: 0.80\n"
     ]
    }
   ],
   "source": [
    "# Fit test data\n",
    "clf.fit(X_test, y_test)\n",
    "print(clf.n_iter_)\n",
    "\n",
    "# Print # accuracy and save loss array\n",
    "accuracy_testing = clf.score(X_test, y_test)\n",
    "print(f\"Testing Accuracy: {accuracy_testing:.2f}\")\n",
    "test_loss_curved = clf.loss_curve_\n"
   ]
  },
  {
   "cell_type": "code",
   "execution_count": null,
   "id": "d5cab4e6",
   "metadata": {},
   "outputs": [],
   "source": [
    "plt.clf()\n",
    "plt.plot(np.arange(len(test_loss_curved)),test_loss_curved,label='test')\n",
    "plt.plot(np.arange(len(training_loss_curved)),training_loss_curved,\n",
    "                    alpha = 0.6, label='Training')\n",
    "plt.legend()\n",
    "plt.xlabel('Epoch') # # of iterations basically\n",
    "plt.ylabel('Loss (Cross Entropy)')\n"
   ]
  },
  {
   "cell_type": "markdown",
   "id": "351581ad",
   "metadata": {},
   "source": [
    "## Make a prediction "
   ]
  },
  {
   "cell_type": "code",
   "execution_count": 47,
   "id": "e0c866a4",
   "metadata": {},
   "outputs": [
    {
     "name": "stdout",
     "output_type": "stream",
     "text": [
      "              precision    recall  f1-score   support\n",
      "\n",
      "           0       0.89      0.96      0.92     23394\n",
      "           1       0.83      0.62      0.71      7236\n",
      "           2       0.80      0.37      0.51      7256\n",
      "           3       0.56      0.89      0.69      6437\n",
      "\n",
      "    accuracy                           0.80     44323\n",
      "   macro avg       0.77      0.71      0.71     44323\n",
      "weighted avg       0.82      0.80      0.79     44323\n",
      "\n"
     ]
    }
   ],
   "source": [
    "from sklearn.metrics import classification_report\n",
    "\n",
    "y_pred = clf.predict(X_test)\n",
    "print(classification_report(y_test, y_pred))"
   ]
  },
  {
   "cell_type": "markdown",
   "id": "f776d9e4",
   "metadata": {},
   "source": [
    "## Check value distribution in df:\n",
    "\n",
    "how many 0s, 1s etc ..."
   ]
  },
  {
   "cell_type": "code",
   "execution_count": 69,
   "id": "62243c00",
   "metadata": {},
   "outputs": [
    {
     "data": {
      "text/plain": [
       "target_status\n",
       "0    0.527559\n",
       "2    0.163286\n",
       "1    0.161949\n",
       "3    0.147205\n",
       "Name: count, dtype: float64"
      ]
     },
     "execution_count": 69,
     "metadata": {},
     "output_type": "execute_result"
    }
   ],
   "source": [
    "y.value_counts()/len(y)"
   ]
  },
  {
   "cell_type": "markdown",
   "id": "9f1fc126",
   "metadata": {},
   "source": [
    "### Use SMOTE to generate a synthetic sample"
   ]
  },
  {
   "cell_type": "code",
   "execution_count": null,
   "id": "cfe397eb",
   "metadata": {},
   "outputs": [
    {
     "ename": "ModuleNotFoundError",
     "evalue": "No module named 'imblearn'",
     "output_type": "error",
     "traceback": [
      "\u001b[0;31m---------------------------------------------------------------------------\u001b[0m",
      "\u001b[0;31mModuleNotFoundError\u001b[0m                       Traceback (most recent call last)",
      "Cell \u001b[0;32mIn[70], line 1\u001b[0m\n\u001b[0;32m----> 1\u001b[0m \u001b[38;5;28;01mfrom\u001b[39;00m \u001b[38;5;21;01mimblearn\u001b[39;00m\u001b[38;5;21;01m.\u001b[39;00m\u001b[38;5;21;01mover_sampling\u001b[39;00m \u001b[38;5;28;01mimport\u001b[39;00m SMOTE\n\u001b[1;32m      2\u001b[0m smote \u001b[38;5;241m=\u001b[39m SMOTE()\n\u001b[1;32m      3\u001b[0m X_resampled, y_resampled \u001b[38;5;241m=\u001b[39m smote\u001b[38;5;241m.\u001b[39mfit_resample(X_train, y_train)\n",
      "\u001b[0;31mModuleNotFoundError\u001b[0m: No module named 'imblearn'"
     ]
    }
   ],
   "source": [
    "from imblearn.over_sampling import SMOTE\n",
    "smote = SMOTE()\n",
    "X_resampled, y_resampled = smote.fit_resample(X_train, y_train)"
   ]
  },
  {
   "cell_type": "markdown",
   "id": "9a81cf81",
   "metadata": {},
   "source": [
    "# April 22, 2025\n",
    "\n",
    "Fixing imbalanced data+ employing normalization to determine baseline data fit"
   ]
  },
  {
   "cell_type": "code",
   "execution_count": 3,
   "id": "44a0c328",
   "metadata": {},
   "outputs": [
    {
     "data": {
      "text/plain": [
       "target_status\n",
       "3    0.25\n",
       "0    0.25\n",
       "1    0.25\n",
       "2    0.25\n",
       "Name: count, dtype: float64"
      ]
     },
     "execution_count": 3,
     "metadata": {},
     "output_type": "execute_result"
    }
   ],
   "source": [
    "# Split into training and test sets\n",
    "# Stratify keeps the ratio of classes in the split data similar to the original\n",
    "X_train, X_test, y_train, y_test = train_test_split(X,y,\n",
    "                                        random_state=0,\n",
    "                                        stratify=y)   \n",
    "# Normalize using standard scaler\n",
    "scaler = StandardScaler()\n",
    "X_train_scaled = scaler.fit_transform(X_train)\n",
    "X_test_scaled = scaler.transform(X_test)\n",
    "\n",
    "\n",
    "# Resample for balanced classes\n",
    "smote = SMOTE(random_state=0)\n",
    "X_resampled, y_resampled = smote.fit_resample(X_train_scaled, y_train)\n",
    "\n",
    "y_resampled.value_counts()/len(y_resampled)\n"
   ]
  },
  {
   "cell_type": "markdown",
   "id": "460aa144",
   "metadata": {},
   "source": [
    "#### Training"
   ]
  },
  {
   "cell_type": "code",
   "execution_count": 44,
   "id": "2b060696",
   "metadata": {},
   "outputs": [
    {
     "name": "stdout",
     "output_type": "stream",
     "text": [
      "48\n"
     ]
    }
   ],
   "source": [
    "clf = MLPClassifier(\n",
    "    hidden_layer_sizes=(64, 32),   # Two layers: 64 → 32 neurons\n",
    "    activation='relu',\n",
    "    solver='adam',\n",
    "    alpha=0.001,                   # L2 regularization (helps prevent overfitting)\n",
    "    max_iter=500,\n",
    "    early_stopping=True,\n",
    "    random_state=0\n",
    ")\n",
    "clf.fit(X_resampled, y_resampled)\n",
    "print(clf.n_iter_)"
   ]
  },
  {
   "cell_type": "code",
   "execution_count": 41,
   "id": "f90357e4",
   "metadata": {},
   "outputs": [
    {
     "name": "stdout",
     "output_type": "stream",
     "text": [
      "Training Accuracy: 0.75\n"
     ]
    }
   ],
   "source": [
    "# Print # accuracy and save loss array\n",
    "accuracy_training = clf.score(X_resampled, y_resampled)\n",
    "print(f\"Training Accuracy: {accuracy_training:.2f}\")\n",
    "\n",
    "# Save training loss curve\n",
    "training_loss_curved = clf.loss_curve_"
   ]
  },
  {
   "cell_type": "code",
   "execution_count": 42,
   "id": "36dd9a0b",
   "metadata": {},
   "outputs": [
    {
     "name": "stdout",
     "output_type": "stream",
     "text": [
      "43\n",
      "Testing Accuracy: 0.80\n"
     ]
    }
   ],
   "source": [
    "# Fit test data\n",
    "clf.fit(X_test_scaled, y_test)\n",
    "print(clf.n_iter_)\n",
    "\n",
    "# Print # accuracy and save loss array\n",
    "accuracy_testing = clf.score(X_test_scaled, y_test)\n",
    "print(f\"Testing Accuracy: {accuracy_testing:.2f}\")\n",
    "test_loss_curved = clf.loss_curve_\n"
   ]
  },
  {
   "cell_type": "code",
   "execution_count": 43,
   "id": "3d380831",
   "metadata": {},
   "outputs": [
    {
     "data": {
      "text/plain": [
       "Text(0, 0.5, 'Loss (Cross Entropy)')"
      ]
     },
     "execution_count": 43,
     "metadata": {},
     "output_type": "execute_result"
    },
    {
     "data": {
      "image/png": "[encoded data removed]",
      "text/plain": [
       "<Figure size 640x480 with 1 Axes>"
      ]
     },
     "metadata": {},
     "output_type": "display_data"
    }
   ],
   "source": [
    "plt.clf()\n",
    "plt.plot(np.arange(len(test_loss_curved)),test_loss_curved,label='test')\n",
    "plt.plot(np.arange(len(training_loss_curved)),training_loss_curved,label='Training')\n",
    "plt.legend()\n",
    "plt.xlabel('Epoch') # # of iterations basically\n",
    "plt.ylabel('Loss (Cross Entropy)')\n"
   ]
  },
  {
   "cell_type": "code",
   "execution_count": 45,
   "id": "db3c0420",
   "metadata": {},
   "outputs": [
    {
     "name": "stdout",
     "output_type": "stream",
     "text": [
      "              precision    recall  f1-score   support\n",
      "\n",
      "           0       0.90      0.95      0.92     23383\n",
      "           1       0.79      0.67      0.73      7178\n",
      "           2       0.80      0.37      0.51      7237\n",
      "           3       0.56      0.89      0.69      6525\n",
      "\n",
      "    accuracy                           0.80     44323\n",
      "   macro avg       0.76      0.72      0.71     44323\n",
      "weighted avg       0.82      0.80      0.79     44323\n",
      "\n"
     ]
    }
   ],
   "source": [
    "from sklearn.metrics import classification_report, confusion_matrix\n",
    "\n",
    "clf.fit(X_train_scaled, y_train)\n",
    "y_pred = clf.predict(X_test_scaled)\n",
    "\n",
    "print(classification_report(y_test, y_pred))\n"
   ]
  },
  {
   "cell_type": "markdown",
   "id": "2492557d",
   "metadata": {},
   "source": [
    "🔍 Interpretation\n",
    "\n",
    "Class 0: Excellent. Model is very confident and accurate.\n",
    "\n",
    "Class 1: Decent but recall is lower → it’s missing some true class 1s.\n",
    "\n",
    "Class 2: High precision but very low recall → your model is underpredicting class 2.\n",
    "\n",
    "Class 3: Opposite issue — low precision but high recall → model predicts class 3 a lot, even when it’s wrong."
   ]
  },
  {
   "cell_type": "markdown",
   "id": "6487c756",
   "metadata": {},
   "source": [
    "# April 23, 2025\n"
   ]
  },
  {
   "cell_type": "code",
   "execution_count": 4,
   "id": "e6e70a41",
   "metadata": {},
   "outputs": [
    {
     "data": {
      "text/plain": [
       "target_status\n",
       "3    0.25\n",
       "0    0.25\n",
       "1    0.25\n",
       "2    0.25\n",
       "Name: count, dtype: float64"
      ]
     },
     "execution_count": 4,
     "metadata": {},
     "output_type": "execute_result"
    }
   ],
   "source": [
    "# Split into training and test sets\n",
    "# Stratify keeps the ratio of classes in the split data similar to the original\n",
    "X_train, X_test, y_train, y_test = train_test_split(X,y,\n",
    "                                        random_state=0,\n",
    "                                        stratify=y)   \n",
    "# Normalize using standard scaler\n",
    "scaler = StandardScaler()\n",
    "X_train_scaled = scaler.fit_transform(X_train)\n",
    "X_test_scaled = scaler.transform(X_test)\n",
    "\n",
    "\n",
    "# Resample for balanced classes\n",
    "smote = SMOTE(random_state=0)\n",
    "X_resampled, y_resampled = smote.fit_resample(X_train_scaled, y_train)\n",
    "\n",
    "y_resampled.value_counts()/len(y_resampled)"
   ]
  },
  {
   "cell_type": "code",
   "execution_count": null,
   "id": "d1be5bb2",
   "metadata": {},
   "outputs": [
    {
     "name": "stdout",
     "output_type": "stream",
     "text": [
      "Training Accuracy: 0.75\n",
      "47\n",
      "Testing Accuracy: 0.80\n",
      "              precision    recall  f1-score   support\n",
      "\n",
      "           0       0.90      0.95      0.93     23383\n",
      "           1       0.81      0.65      0.72      7178\n",
      "           2       0.79      0.38      0.51      7237\n",
      "           3       0.56      0.89      0.69      6525\n",
      "\n",
      "    accuracy                           0.80     44323\n",
      "   macro avg       0.77      0.72      0.71     44323\n",
      "weighted avg       0.82      0.80      0.79     44323\n",
      "\n"
     ]
    }
   ],
   "source": [
    "clf = MLPClassifier(\n",
    "    hidden_layer_sizes=(64, 64),   # Two layers: 64 → 32 neurons\n",
    "    activation='relu',\n",
    "    solver='adam',\n",
    "    #alpha=0.005,                   # L2 regularization (helps prevent overfitting)\n",
    "    max_iter=500,\n",
    "    early_stopping=True,\n",
    "    random_state=0\n",
    ")\n",
    "clf.fit(X_resampled, y_resampled)\n",
    "\n",
    "# Print # accuracy and save loss array\n",
    "accuracy_training = clf.score(X_resampled, y_resampled)\n",
    "print(f\"Training Accuracy: {accuracy_training:.2f}\")\n",
    "\n",
    "# Save training loss curve\n",
    "training_loss_curved = clf.loss_curve_\n",
    "\n",
    "# Validationsss\n",
    "clf.fit(X_test_scaled, y_test)\n",
    "\n",
    "\n",
    "# Print # accuracy and save loss array\n",
    "accuracy_testing = clf.score(X_test_scaled, y_test)\n",
    "print(f\"Testing Accuracy: {accuracy_testing:.2f}\")\n",
    "test_loss_curved = clf.loss_curve_\n",
    "\n",
    "y_pred = clf.predict(X_test_scaled)\n",
    "print(classification_report(y_test, y_pred))\n"
   ]
  },
  {
   "cell_type": "code",
   "execution_count": 29,
   "id": "d4923319",
   "metadata": {},
   "outputs": [
    {
     "data": {
      "text/plain": [
       "Text(0, 0.5, 'Loss (Cross Entropy)')"
      ]
     },
     "execution_count": 29,
     "metadata": {},
     "output_type": "execute_result"
    },
    {
     "data": {
      "image/png": "[encoded data removed]",
      "text/plain": [
       "<Figure size 640x480 with 1 Axes>"
      ]
     },
     "metadata": {},
     "output_type": "display_data"
    }
   ],
   "source": [
    "plt.clf()\n",
    "plt.plot(np.arange(len(test_loss_curved)),test_loss_curved,label='Validation')\n",
    "plt.plot(np.arange(len(training_loss_curved)),training_loss_curved,label='Training')\n",
    "plt.legend()\n",
    "plt.xlabel('Epoch') # # of iterations basically\n",
    "plt.ylabel('Loss (Cross Entropy)')"
   ]
  },
  {
   "cell_type": "code",
   "execution_count": null,
   "id": "ada6483e",
   "metadata": {},
   "outputs": [
    {
     "name": "stdout",
     "output_type": "stream",
     "text": [
      "Best alpha: 0.01\n"
     ]
    }
   ],
   "source": [
    "from sklearn.model_selection import GridSearchCV\n",
    "\n",
    "params = {\n",
    "    'alpha': [1e-5, 1e-4, 1e-3, 1e-2, 1e-1]\n",
    "}\n",
    "\n",
    "clf = MLPClassifier(\n",
    "    hidden_layer_sizes=(32, 16),   # Two layers: 64 → 32 neurons\n",
    "    activation='relu',\n",
    "    solver='adam',\n",
    "    max_iter=500,\n",
    "    early_stopping=True,\n",
    "    random_state=0\n",
    ")\n",
    "grid = GridSearchCV(clf, param_grid=params, scoring='accuracy', cv=3)\n",
    "grid.fit(X_resampled, y_resampled)\n",
    "print(\"Best alpha:\", grid.best_params_['alpha'])\n"
   ]
  },
  {
   "cell_type": "code",
   "execution_count": null,
   "id": "b6c4c343",
   "metadata": {},
   "outputs": [],
   "source": []
  }
 ],
 "metadata": {
  "kernelspec": {
   "display_name": "ML_learn",
   "language": "python",
   "name": "python3"
  },
  "language_info": {
   "codemirror_mode": {
    "name": "ipython",
    "version": 3
   },
   "file_extension": ".py",
   "mimetype": "text/x-python",
   "name": "python",
   "nbconvert_exporter": "python",
   "pygments_lexer": "ipython3",
   "version": "3.13.2"
  }
 },
 "nbformat": 4,
 "nbformat_minor": 5
}
