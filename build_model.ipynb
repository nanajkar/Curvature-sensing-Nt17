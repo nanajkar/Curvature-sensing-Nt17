{
 "cells": [
  {
   "cell_type": "code",
   "execution_count": 11,
   "id": "9d60409b",
   "metadata": {},
   "outputs": [],
   "source": [
    "import numpy as np\n",
    "import pandas as pd\n",
    "import seaborn as sns\n",
    "import matplotlib.pyplot as plt\n",
    "from sklearn.neural_network import MLPClassifier\n",
    "from sklearn.model_selection import train_test_split\n",
    "from sklearn.preprocessing import StandardScaler\n",
    "from imblearn.over_sampling import SMOTE"
   ]
  },
  {
   "cell_type": "code",
   "execution_count": 6,
   "id": "df3a3fe9",
   "metadata": {},
   "outputs": [],
   "source": [
    "# Read in current version of the df. \n",
    "current_df = pd.read_csv('current_features.csv')\n",
    "\n",
    "y = current_df['target_status']\n",
    "\n",
    "feature_cols = ['pp_contacts', 'pl_contacts', 'dip_pp_contacts', 'dip_lp_contacts',\n",
    "       'hyd_lp_contacts', 'Ppep_Nlip_contacts', 'Npep_Plip_contacts']\n",
    "X = current_df[feature_cols]"
   ]
  },
  {
   "cell_type": "markdown",
   "id": "e04408fb",
   "metadata": {},
   "source": [
    "# April 22, 2025: playing around"
   ]
  },
  {
   "cell_type": "code",
   "execution_count": 17,
   "id": "6924fc45",
   "metadata": {},
   "outputs": [],
   "source": [
    "# Split into training and test\n",
    "X_train, X_test, y_train, y_test = train_test_split(X,y,random_state=0)"
   ]
  },
  {
   "cell_type": "markdown",
   "id": "b60fdffb",
   "metadata": {},
   "source": [
    "## Training"
   ]
  },
  {
   "cell_type": "code",
   "execution_count": 37,
   "id": "a2572989",
   "metadata": {},
   "outputs": [
    {
     "name": "stdout",
     "output_type": "stream",
     "text": [
      "139\n"
     ]
    }
   ],
   "source": [
    "clf = MLPClassifier(hidden_layer_sizes=(100,), max_iter=500, random_state=0)\n",
    "clf.fit(X_train, y_train)\n",
    "print(clf.n_iter_)"
   ]
  },
  {
   "cell_type": "code",
   "execution_count": 43,
   "id": "c4faca23",
   "metadata": {},
   "outputs": [
    {
     "name": "stdout",
     "output_type": "stream",
     "text": [
      "Training Accuracy: 0.80\n"
     ]
    }
   ],
   "source": [
    "# Print # accuracy and save loss array\n",
    "accuracy_training = clf.score(X_train, y_train)\n",
    "print(f\"Training Accuracy: {accuracy_training:.2f}\")\n",
    "\n",
    "# Save training loss curve\n",
    "training_loss_curved = clf.loss_curve_"
   ]
  },
  {
   "cell_type": "markdown",
   "id": "cdc55c94",
   "metadata": {},
   "source": [
    "## Test set"
   ]
  },
  {
   "cell_type": "code",
   "execution_count": 44,
   "id": "35f00313",
   "metadata": {},
   "outputs": [
    {
     "name": "stdout",
     "output_type": "stream",
     "text": [
      "100\n",
      "Testing Accuracy: 0.80\n"
     ]
    }
   ],
   "source": [
    "# Fit test data\n",
    "clf.fit(X_test, y_test)\n",
    "print(clf.n_iter_)\n",
    "\n",
    "# Print # accuracy and save loss array\n",
    "accuracy_testing = clf.score(X_test, y_test)\n",
    "print(f\"Testing Accuracy: {accuracy_testing:.2f}\")\n",
    "test_loss_curved = clf.loss_curve_\n"
   ]
  },
  {
   "cell_type": "code",
   "execution_count": 45,
   "id": "d5cab4e6",
   "metadata": {},
   "outputs": [
    {
     "data": {
      "text/plain": [
       "Text(0, 0.5, 'Loss (Cross Entropy)')"
      ]
     },
     "execution_count": 45,
     "metadata": {},
     "output_type": "execute_result"
    },
    {
     "data": {
      "image/png": "[encoded data removed]",
      "text/plain": [
       "<Figure size 640x480 with 1 Axes>"
      ]
     },
     "metadata": {},
     "output_type": "display_data"
    }
   ],
   "source": [
    "plt.clf()\n",
    "plt.plot(np.arange(len(test_loss_curved)),test_loss_curved,label='test')\n",
    "plt.plot(np.arange(len(training_loss_curved)),training_loss_curved,label='Training')\n",
    "plt.legend()\n",
    "plt.xlabel('Epoch') # # of iterations basically\n",
    "plt.ylabel('Loss (Cross Entropy)')\n"
   ]
  },
  {
   "cell_type": "markdown",
   "id": "351581ad",
   "metadata": {},
   "source": [
    "## Make a prediction "
   ]
  },
  {
   "cell_type": "code",
   "execution_count": 47,
   "id": "e0c866a4",
   "metadata": {},
   "outputs": [
    {
     "name": "stdout",
     "output_type": "stream",
     "text": [
      "              precision    recall  f1-score   support\n",
      "\n",
      "           0       0.89      0.96      0.92     23394\n",
      "           1       0.83      0.62      0.71      7236\n",
      "           2       0.80      0.37      0.51      7256\n",
      "           3       0.56      0.89      0.69      6437\n",
      "\n",
      "    accuracy                           0.80     44323\n",
      "   macro avg       0.77      0.71      0.71     44323\n",
      "weighted avg       0.82      0.80      0.79     44323\n",
      "\n"
     ]
    }
   ],
   "source": [
    "from sklearn.metrics import classification_report\n",
    "\n",
    "y_pred = clf.predict(X_test)\n",
    "print(classification_report(y_test, y_pred))"
   ]
  },
  {
   "cell_type": "markdown",
   "id": "f776d9e4",
   "metadata": {},
   "source": [
    "## Check value distribution in df:\n",
    "\n",
    "how many 0s, 1s etc ..."
   ]
  },
  {
   "cell_type": "code",
   "execution_count": 69,
   "id": "62243c00",
   "metadata": {},
   "outputs": [
    {
     "data": {
      "text/plain": [
       "target_status\n",
       "0    0.527559\n",
       "2    0.163286\n",
       "1    0.161949\n",
       "3    0.147205\n",
       "Name: count, dtype: float64"
      ]
     },
     "execution_count": 69,
     "metadata": {},
     "output_type": "execute_result"
    }
   ],
   "source": [
    "y.value_counts()/len(y)"
   ]
  },
  {
   "cell_type": "markdown",
   "id": "9f1fc126",
   "metadata": {},
   "source": [
    "### Use SMOTE to generate a synthetic sample"
   ]
  },
  {
   "cell_type": "code",
   "execution_count": null,
   "id": "cfe397eb",
   "metadata": {},
   "outputs": [
    {
     "ename": "ModuleNotFoundError",
     "evalue": "No module named 'imblearn'",
     "output_type": "error",
     "traceback": [
      "\u001b[0;31m---------------------------------------------------------------------------\u001b[0m",
      "\u001b[0;31mModuleNotFoundError\u001b[0m                       Traceback (most recent call last)",
      "Cell \u001b[0;32mIn[70], line 1\u001b[0m\n\u001b[0;32m----> 1\u001b[0m \u001b[38;5;28;01mfrom\u001b[39;00m \u001b[38;5;21;01mimblearn\u001b[39;00m\u001b[38;5;21;01m.\u001b[39;00m\u001b[38;5;21;01mover_sampling\u001b[39;00m \u001b[38;5;28;01mimport\u001b[39;00m SMOTE\n\u001b[1;32m      2\u001b[0m smote \u001b[38;5;241m=\u001b[39m SMOTE()\n\u001b[1;32m      3\u001b[0m X_resampled, y_resampled \u001b[38;5;241m=\u001b[39m smote\u001b[38;5;241m.\u001b[39mfit_resample(X_train, y_train)\n",
      "\u001b[0;31mModuleNotFoundError\u001b[0m: No module named 'imblearn'"
     ]
    }
   ],
   "source": [
    "from imblearn.over_sampling import SMOTE\n",
    "smote = SMOTE()\n",
    "X_resampled, y_resampled = smote.fit_resample(X_train, y_train)"
   ]
  },
  {
   "cell_type": "markdown",
   "id": "9a81cf81",
   "metadata": {},
   "source": [
    "## April 23, 2025\n",
    "\n",
    "Fixing imbalanced data+ employing normalization to determine baseline data fit"
   ]
  },
  {
   "cell_type": "code",
   "execution_count": 15,
   "id": "44a0c328",
   "metadata": {},
   "outputs": [],
   "source": [
    "# Split into training and test sets\n",
    "# Stratify keeps the ratio of classes in the split data similar to the original\n",
    "X_train, X_test, y_train, y_test = train_test_split(X,y,\n",
    "                                        random_state=0,\n",
    "                                        stratify=y)   \n",
    "# Normalize using standard scaler\n",
    "scaler = StandardScaler()\n",
    "X_train_scaled = scaler.fit_transform(X_train)\n",
    "X_test_scaled = scaler.transform(X_test)\n",
    "\n",
    "\n",
    "# Resample for balanced classes\n",
    "smote = SMOTE(random_state=0)\n",
    "X_resampled, y_resampled = smote.fit_resample(X_train_scaled, y_train)\n",
    "\n"
   ]
  },
  {
   "cell_type": "markdown",
   "id": "460aa144",
   "metadata": {},
   "source": [
    "#### Training"
   ]
  },
  {
   "cell_type": "code",
   "execution_count": 27,
   "id": "2b060696",
   "metadata": {},
   "outputs": [
    {
     "name": "stdout",
     "output_type": "stream",
     "text": [
      "172\n"
     ]
    }
   ],
   "source": [
    "clf = MLPClassifier(hidden_layer_sizes=(25,) *3,\n",
    "                    max_iter=500, random_state=0)\n",
    "clf.fit(X_resampled, y_resampled)\n",
    "print(clf.n_iter_)"
   ]
  },
  {
   "cell_type": "code",
   "execution_count": 28,
   "id": "f90357e4",
   "metadata": {},
   "outputs": [
    {
     "name": "stdout",
     "output_type": "stream",
     "text": [
      "Training Accuracy: 0.75\n"
     ]
    }
   ],
   "source": [
    "# Print # accuracy and save loss array\n",
    "accuracy_training = clf.score(X_resampled, y_resampled)\n",
    "print(f\"Training Accuracy: {accuracy_training:.2f}\")\n",
    "\n",
    "# Save training loss curve\n",
    "training_loss_curved = clf.loss_curve_"
   ]
  },
  {
   "cell_type": "code",
   "execution_count": 29,
   "id": "36dd9a0b",
   "metadata": {},
   "outputs": [
    {
     "name": "stdout",
     "output_type": "stream",
     "text": [
      "149\n",
      "Testing Accuracy: 0.78\n"
     ]
    }
   ],
   "source": [
    "# Fit test data\n",
    "clf.fit(X_test_scaled, y_test)\n",
    "print(clf.n_iter_)\n",
    "\n",
    "# Print # accuracy and save loss array\n",
    "accuracy_testing = clf.score(X_test_scaled, y_test)\n",
    "print(f\"Testing Accuracy: {accuracy_testing:.2f}\")\n",
    "test_loss_curved = clf.loss_curve_\n"
   ]
  },
  {
   "cell_type": "code",
   "execution_count": 30,
   "id": "3d380831",
   "metadata": {},
   "outputs": [
    {
     "data": {
      "text/plain": [
       "Text(0, 0.5, 'Loss (Cross Entropy)')"
      ]
     },
     "execution_count": 30,
     "metadata": {},
     "output_type": "execute_result"
    },
    {
     "data": {
      "image/png": "[encoded data removed]",
      "text/plain": [
       "<Figure size 640x480 with 1 Axes>"
      ]
     },
     "metadata": {},
     "output_type": "display_data"
    }
   ],
   "source": [
    "plt.clf()\n",
    "plt.plot(np.arange(len(test_loss_curved)),test_loss_curved,label='test')\n",
    "plt.plot(np.arange(len(training_loss_curved)),training_loss_curved,label='Training')\n",
    "plt.legend()\n",
    "plt.xlabel('Epoch') # # of iterations basically\n",
    "plt.ylabel('Loss (Cross Entropy)')\n"
   ]
  },
  {
   "cell_type": "code",
   "execution_count": null,
   "id": "db3c0420",
   "metadata": {},
   "outputs": [],
   "source": []
  }
 ],
 "metadata": {
  "kernelspec": {
   "display_name": "ML_learn",
   "language": "python",
   "name": "python3"
  },
  "language_info": {
   "codemirror_mode": {
    "name": "ipython",
    "version": 3
   },
   "file_extension": ".py",
   "mimetype": "text/x-python",
   "name": "python",
   "nbconvert_exporter": "python",
   "pygments_lexer": "ipython3",
   "version": "3.13.2"
  }
 },
 "nbformat": 4,
 "nbformat_minor": 5
}
